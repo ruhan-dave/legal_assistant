{
 "cells": [
  {
   "cell_type": "code",
   "execution_count": 1,
   "metadata": {},
   "outputs": [
    {
     "name": "stderr",
     "output_type": "stream",
     "text": [
      "/opt/miniconda3/envs/ai_env/lib/python3.12/site-packages/tqdm/auto.py:21: TqdmWarning: IProgress not found. Please update jupyter and ipywidgets. See https://ipywidgets.readthedocs.io/en/stable/user_install.html\n",
      "  from .autonotebook import tqdm as notebook_tqdm\n"
     ]
    }
   ],
   "source": [
    "import os\n",
    "from dotenv import load_dotenv\n",
    "# import openai\n",
    "import chromadb\n",
    "from sentence_transformers import SentenceTransformer  # For embeddings"
   ]
  },
  {
   "cell_type": "code",
   "execution_count": 15,
   "metadata": {},
   "outputs": [],
   "source": [
    "# Load environment variables from .env file\n",
    "load_dotenv(override=True)\n",
    "\n",
    "# Retrieve the API key\n",
    "cohere_key = os.getenv(\"COHERE_API_KEY\")"
   ]
  },
  {
   "cell_type": "code",
   "execution_count": 16,
   "metadata": {},
   "outputs": [],
   "source": [
    "import cohere\n",
    "import qdrant_client\n",
    "from qdrant_client import QdrantClient\n",
    "from qdrant_client.models import Batch\n",
    "\n",
    "# Initialize clients\n",
    "cohere_client = cohere.ClientV2(cohere_key)\n",
    "# qdrant_client = qdrant_client.QdrantClient(host=\"localhost\", port=6333)"
   ]
  },
  {
   "cell_type": "code",
   "execution_count": 34,
   "metadata": {},
   "outputs": [],
   "source": [
    "qdrant_client = QdrantClient(host=\"host.docker.internal\", port=6333)"
   ]
  },
  {
   "cell_type": "code",
   "execution_count": 35,
   "metadata": {},
   "outputs": [],
   "source": [
    "import os\n",
    "from typing import List\n",
    "from PyPDF2 import PdfReader\n",
    "from concurrent.futures import ThreadPoolExecutor\n",
    "\n",
    "def process_pdf_to_text(file_path: str, num_threads: int = 4) -> str:\n",
    "    \"\"\"\n",
    "    Processes a PDF file and extracts its content as a single text string.\n",
    "\n",
    "    Args:\n",
    "        file_path: The path to the PDF file.\n",
    "        num_threads: The number of threads to use for parallel page processing.\n",
    "\n",
    "    Returns:\n",
    "        The extracted text as a single string with no newlines. Returns an empty string on error.\n",
    "\n",
    "    Raises:\n",
    "        FileNotFoundError: If the file does not exist.\n",
    "        ValueError: If the file is not a PDF.\n",
    "    \"\"\"\n",
    "    if not os.path.exists(file_path):\n",
    "        raise FileNotFoundError(f\"File not found: {file_path}\")\n",
    "\n",
    "    if not file_path.lower().endswith(\".pdf\"):\n",
    "        raise ValueError(f\"File is not a PDF: {file_path}\")\n",
    "\n",
    "    try:\n",
    "        with open(file_path, 'rb') as file:\n",
    "            reader = PdfReader(file)\n",
    "            num_pages = len(reader.pages)\n",
    "\n",
    "            # Use ThreadPoolExecutor to process pages in parallel\n",
    "            with ThreadPoolExecutor(max_workers=num_threads) as executor:\n",
    "                page_texts = list(executor.map(extract_page_text, [(reader, i) for i in range(num_pages)]))\n",
    "\n",
    "            return \" \".join(page_texts)  # Join all pages into a single string without newlines\n",
    "\n",
    "    except Exception as e:\n",
    "        print(f\"Error processing PDF {file_path}: {e}\")  # More specific error\n",
    "        return \"\"\n",
    "\n",
    "def extract_page_text(args):\n",
    "    \"\"\"Helper function for parallel PDF page extraction.\"\"\"\n",
    "    reader, page_num = args\n",
    "    try:\n",
    "        page = reader.pages[page_num]\n",
    "        return \" \".join(page.extract_text().split())  # Remove newlines and extra spaces\n",
    "    except Exception as e:\n",
    "        print(f\"Error processing page {page_num}: {e}\")  # Error handling\n",
    "        return \"\""
   ]
  },
  {
   "cell_type": "code",
   "execution_count": 36,
   "metadata": {},
   "outputs": [
    {
     "name": "stdout",
     "output_type": "stream",
     "text": [
      "Extracted Text:\n",
      "Additional Application Information If we request additional information to process your application, including but not limited to income and additional identification documentation, please ensure that it is submitted to the Leasing Office within 3 calendar days of the request. If documentation is not received within 3 days, the application will be canceled. Please note that processing of your application may take up to 10 days. Hold Deposit The hold deposit will be applied to the balance due at move- in. If written cancellation is received within 3 days from the date of application or if we cannot approve your application, a refund of the hold deposit payment will be mailed within 20 business days. Required documents must be received within 3 days of the request, or your application will be canceled, and the hold deposit will be forfeited. Security Deposit Requirement The Refundable Security Deposit amount disclosed here is subject to change, pending final credit review, and is due on or before move- in. Administrative Fee An administrative fee will be charged upon approval, and will be due within 5 calendar days of application, but no later than 24 hours after approval, to continue reserving the apartment. Wait List Applications When applying to be placed on our Wait List, today's pricing is guaranteed subject to availability, apartment features, and a move- in date within 90 days. A Leasing Representative can provide a locked- in price quote. Lease Start Date Please be advised that the lease start date may not be changed for this address after approval but we may be able to accommodate an earlier lease start date. Following Month's Rent If your move- in date is the 25th to the 31st, the following month's rent will be due at move- in. Online Payments Your Application Payments paid today will not charge an additional a fee. After approval, online E- Checks are accepted without a fee, but Credit Card payments will incur a 2.95% fee. Other payment types including money orders are accepted without a fee. Lead- Based Paint Disclosure Housing built before 1978 may contain lead- based paint. Upon receipt of your application, we will send you a Disclosure of Information on Lead- Based Paint for your review and signature. Please contact the Leasing Office if you have any questions. Renter's Insurance Requirement Proof of $100,000 liability coverage and personal property coverage in the amount sufficient to protect your personal property must be presented prior to move- in, and coverage must be maintained throughout residency. In addition to a renter’s insurance policy, if your apartment is located in a flood plain, it is recommended that you acquire appropriate flood insurance. Student Applications Student lease packages are subject to verification and approval of student status. Security deposit may be required on income qualification and/or guarantor. Student packages and discounts may not be combined with other specials. Parking Program In order to assure our residents of the availability of parking, this community has a parking program. Residents are required to provide vehicle registration, residents’ vehicles are required to display a current parking sticker, and residents obtain passes/permits for their guests. Consent & Acknowledgement By checking “I agree” below, I: • attest that all statements and representations herein are true and correct to the best of my knowledge. Providing any misleading, incorrect, or untrue information in this application is grounds for denial of the application or termination of my right of occupancy at Owner’s sole discretion. I waive any claim for damages for denial of the application. • authorize verification of such statements including the release of criminal records from any jurisdiction, credit reports, mortgage and/or rental history, employment and income verification, and/or student status information for the purpose of determining my qualification for apartment rental and/or further verification as necessary during or after any Lease(s) resulting from this application. • understand that if I lease an apartment, the Owner and its agent shall have a continuing right to review credit information, rental application, payment history, occupancy history, and related information for account review purposes and for improving application methods. • understand that the management company and Owner have no duty to verify, and neither represents nor covenants that it will verify, the accuracy of the answers provided to the forgoing questions concerning prospective residents; therefore, expressly disclaims any obligation, to perform a criminal background check on applicants for occupancy in the community and does not guarantee or represent that all residents have no prior criminal record or background or that management has undertaken any effort to verify the lack of a criminal record or background in its applicants.\n"
     ]
    }
   ],
   "source": [
    "extracted_text = process_pdf_to_text(\"./legal.pdf\")\n",
    "print(f\"Extracted Text:\\n{extracted_text}\")"
   ]
  },
  {
   "cell_type": "code",
   "execution_count": 37,
   "metadata": {},
   "outputs": [],
   "source": [
    "def customize_chunking(text, chunk_size=150):\n",
    "    list_of_chunks = []\n",
    "    chunk = \"\"\n",
    "    for i in range(0, len(text), chunk_size):\n",
    "        chunk += text[i:i+chunk_size] + \"\\n\"\n",
    "        list_of_chunks.append(chunk)\n",
    "    return list_of_chunks"
   ]
  },
  {
   "cell_type": "code",
   "execution_count": 38,
   "metadata": {},
   "outputs": [
    {
     "name": "stdout",
     "output_type": "stream",
     "text": [
      "Number of chunks: 33\n"
     ]
    }
   ],
   "source": [
    "list_chunks = customize_chunking(extracted_text)\n",
    "print(f\"Number of chunks: {len(list_chunks)}\")"
   ]
  },
  {
   "cell_type": "code",
   "execution_count": 63,
   "metadata": {},
   "outputs": [
    {
     "data": {
      "text/plain": [
       "151"
      ]
     },
     "execution_count": 63,
     "metadata": {},
     "output_type": "execute_result"
    }
   ],
   "source": [
    "len(list_chunks[0])"
   ]
  },
  {
   "cell_type": "code",
   "execution_count": 64,
   "metadata": {},
   "outputs": [
    {
     "name": "stdout",
     "output_type": "stream",
     "text": [
      "Additional Application Information If we request additional information to process your application, including but not limited to income and additiona\n",
      "\n"
     ]
    }
   ],
   "source": [
    "print(list_chunks[0])"
   ]
  },
  {
   "cell_type": "code",
   "execution_count": 39,
   "metadata": {},
   "outputs": [],
   "source": [
    "# Generating the embeddings with Cohere client library\n",
    "embeddings = cohere_client.embed(\n",
    "    texts=list_chunks,\n",
    "    model=\"embed-english-light-v3.0\",\n",
    "    input_type=\"search_document\",\n",
    "    embedding_types=[\"float\"]\n",
    ")"
   ]
  },
  {
   "cell_type": "code",
   "execution_count": 180,
   "metadata": {},
   "outputs": [
    {
     "data": {
      "text/plain": [
       "cohere.types.embed_by_type_response.EmbedByTypeResponse"
      ]
     },
     "execution_count": 180,
     "metadata": {},
     "output_type": "execute_result"
    }
   ],
   "source": [
    "type(embeddings)"
   ]
  },
  {
   "cell_type": "code",
   "execution_count": 40,
   "metadata": {},
   "outputs": [],
   "source": [
    "def query_chunking(query: List[str]):\n",
    "    response = cohere_client.embed(\n",
    "        texts=query,\n",
    "        model=\"embed-english-light-v3.0\",\n",
    "        input_type=\"search_query\",\n",
    "        embedding_types=[\"float\"]\n",
    "    )\n",
    "    return response # [\"results\"][0][\"text\"]"
   ]
  },
  {
   "cell_type": "code",
   "execution_count": 41,
   "metadata": {},
   "outputs": [],
   "source": [
    "query = ['How do I do online payments?']\n",
    "query_chunks = query_chunking(query)\n",
    "query_embeddings = query_chunks.embeddings.float"
   ]
  },
  {
   "cell_type": "code",
   "execution_count": 42,
   "metadata": {},
   "outputs": [],
   "source": [
    "# Extracting the embeddings\n",
    "embedding_floats = embeddings.embeddings.float"
   ]
  },
  {
   "cell_type": "markdown",
   "metadata": {},
   "source": [
    "https://docs.cohere.com/v2/reference/embed"
   ]
  },
  {
   "cell_type": "markdown",
   "metadata": {},
   "source": [
    "### QDrant"
   ]
  },
  {
   "cell_type": "code",
   "execution_count": 57,
   "metadata": {},
   "outputs": [],
   "source": [
    "qdrant_key = os.getenv(\"QDRANT_API_KEY\")\n",
    "qdrant_host = os.getenv(\"QDRANT_HOST\")"
   ]
  },
  {
   "cell_type": "code",
   "execution_count": 60,
   "metadata": {},
   "outputs": [],
   "source": [
    "qdrant_client = QdrantClient(\n",
    "    url=qdrant_host,  # Your Qdrant Cloud URL\n",
    "    # prefer_grpc=True,  # Use gRPC for better performance\n",
    "    api_key=qdrant_key # Required for Qdrant Cloud authentication\n",
    ")\n",
    "\n",
    "# Test the connection by listing collections\n",
    "# print(qdrant_client.get_collections())"
   ]
  },
  {
   "cell_type": "code",
   "execution_count": 66,
   "metadata": {},
   "outputs": [
    {
     "data": {
      "text/plain": [
       "False"
      ]
     },
     "execution_count": 66,
     "metadata": {},
     "output_type": "execute_result"
    }
   ],
   "source": [
    "qdrant_client.delete_collection(\"new-collection\")\n",
    "# print(\"Collection 'daves-rag' deleted successfully.\")"
   ]
  },
  {
   "cell_type": "code",
   "execution_count": 54,
   "metadata": {},
   "outputs": [],
   "source": [
    "from qdrant_client.models import VectorParams, Distance\n",
    "from qdrant_client import models"
   ]
  },
  {
   "cell_type": "code",
   "execution_count": 26,
   "metadata": {},
   "outputs": [
    {
     "data": {
      "text/plain": [
       "(list, list, float)"
      ]
     },
     "execution_count": 26,
     "metadata": {},
     "output_type": "execute_result"
    }
   ],
   "source": [
    "type(embedding_floats), type(embedding_floats[0]), type(embedding_floats[0][0])"
   ]
  },
  {
   "cell_type": "code",
   "execution_count": null,
   "metadata": {},
   "outputs": [],
   "source": [
    "qdrant_client.create_collection(\n",
    "    collection_name=\"daves-rag\",\n",
    "    vectors_config=VectorParams(size=384, distance=Distance.COSINE),  # Ensure 384 is correct\n",
    ")"
   ]
  },
  {
   "cell_type": "code",
   "execution_count": 223,
   "metadata": {},
   "outputs": [
    {
     "data": {
      "text/plain": [
       "UpdateResult(operation_id=1, status=<UpdateStatus.COMPLETED: 'completed'>)"
      ]
     },
     "execution_count": 223,
     "metadata": {},
     "output_type": "execute_result"
    }
   ],
   "source": [
    "qdrant_client.upsert(\n",
    "    collection_name=\"daves-rag\",\n",
    "    points=models.Batch(\n",
    "        ids=[i for i in range(len(embedding_floats))],  # Unique IDs for each embedding\n",
    "        payloads=[{\"text\": f\"Document {i}\"} for i in range(len(embedding_floats))],  # Optional metadata\n",
    "        vectors=embedding_floats,  # Ensure embeddings are a List[List[float]]\n",
    "    ),\n",
    ")"
   ]
  },
  {
   "cell_type": "markdown",
   "metadata": {},
   "source": [
    "https://qdrant.tech/documentation/frameworks/langchain/#\n",
    "\n",
    "\n",
    "https://qdrant.tech/documentation/guides/installation/"
   ]
  },
  {
   "cell_type": "code",
   "execution_count": null,
   "metadata": {},
   "outputs": [],
   "source": [
    "collection_info = qdrant_client.get_collection(\"new-collection\")\n",
    "print(collection_info)"
   ]
  },
  {
   "cell_type": "code",
   "execution_count": null,
   "metadata": {},
   "outputs": [],
   "source": [
    "collection_info = qdrant_client.get_collection(\"daves-rag\")\n",
    "print(collection_info)"
   ]
  },
  {
   "cell_type": "code",
   "execution_count": null,
   "metadata": {},
   "outputs": [],
   "source": [
    "?qdrant_client.upsert"
   ]
  },
  {
   "cell_type": "markdown",
   "metadata": {},
   "source": [
    "#### Without Manual input"
   ]
  },
  {
   "cell_type": "code",
   "execution_count": 151,
   "metadata": {},
   "outputs": [
    {
     "name": "stderr",
     "output_type": "stream",
     "text": [
      "/var/folders/yh/spwbfb7530v8vtt0x56m6ph00000gn/T/ipykernel_39598/648773378.py:9: DeprecationWarning: `search` method is deprecated and will be removed in the future. Use `query_points` instead.\n",
      "  top_results = qdrant_client.search(\n"
     ]
    },
    {
     "name": "stdout",
     "output_type": "stream",
     "text": [
      "Document ID: 19, Score: 0.2872586250305176, Payload: None\n",
      "Document ID: 20, Score: 0.2680310010910034, Payload: None\n",
      "Document ID: 21, Score: 0.2604231834411621, Payload: None\n",
      "Document ID: 18, Score: 0.2585766315460205, Payload: None\n",
      "Document ID: 17, Score: 0.25060632824897766, Payload: None\n"
     ]
    }
   ],
   "source": [
    "# from qdrant_client import QdrantClient\n",
    "\n",
    "# Initialize client\n",
    "# qdrant_client = QdrantClient(host=\"localhost\", port=6333)  # Use 'url=' if using Qdrant Cloud\n",
    "\n",
    "# Define query embedding (Must match the vector size of the collection)\n",
    "\n",
    "# Perform vector search\n",
    "top_results = qdrant_client.search(\n",
    "    collection_name=\"daves-rag\",  # Your collection name\n",
    "    query_vector=query_embeddings[0],\n",
    "    limit=5  # Return the top 5 most similar documents\n",
    ")\n",
    "\n",
    "# Print results\n",
    "for result in top_results:\n",
    "    print(f\"Document ID: {result.id}, Score: {result.score}, Payload: {result.payload}\")"
   ]
  },
  {
   "cell_type": "code",
   "execution_count": 9,
   "metadata": {},
   "outputs": [],
   "source": [
    "import numpy as np"
   ]
  },
  {
   "cell_type": "code",
   "execution_count": null,
   "metadata": {},
   "outputs": [],
   "source": [
    "qdrant_client.scroll(collection_name=\"daves-rag\", limit=5)"
   ]
  },
  {
   "cell_type": "code",
   "execution_count": 205,
   "metadata": {},
   "outputs": [
    {
     "name": "stdout",
     "output_type": "stream",
     "text": [
      "First vector shape: 384\n",
      "First vector: [0.01524353, -0.007095337, -0.024765015, -0.019088745, 0.0496521]\n"
     ]
    }
   ],
   "source": [
    "print(f\"First vector shape: {len(embedding_floats[0])}\")  # Should be 384\n",
    "print(f\"First vector: {embedding_floats[0][:5]}\")  # Print first 5 values\n"
   ]
  },
  {
   "cell_type": "code",
   "execution_count": 206,
   "metadata": {},
   "outputs": [
    {
     "name": "stdout",
     "output_type": "stream",
     "text": [
      "🚨 Missing vector for ID 0\n",
      "🚨 Missing vector for ID 1\n",
      "🚨 Missing vector for ID 2\n",
      "🚨 Missing vector for ID 3\n",
      "🚨 Missing vector for ID 4\n"
     ]
    }
   ],
   "source": [
    "stored_vectors, _ = qdrant_client.scroll(collection_name=\"daves-rag\", limit=5)\n",
    "\n",
    "for vec in stored_vectors:\n",
    "    if vec.vector is None:\n",
    "        print(f\"🚨 Missing vector for ID {vec.id}\")\n",
    "    else:\n",
    "        print(f\"✅ ID: {vec.id}, Vector: {vec.vector[:5]}\")  # Print first 5 values\n"
   ]
  },
  {
   "cell_type": "code",
   "execution_count": 207,
   "metadata": {},
   "outputs": [],
   "source": [
    "qdrant_client = QdrantClient(host=\"host.docker.internal\", port=6333)"
   ]
  },
  {
   "cell_type": "code",
   "execution_count": 208,
   "metadata": {},
   "outputs": [
    {
     "name": "stdout",
     "output_type": "stream",
     "text": [
      "CONTAINER ID   IMAGE           COMMAND             CREATED        STATUS             PORTS                              NAMES\n",
      "0b78c463ca42   qdrant/qdrant   \"./entrypoint.sh\"   18 hours ago   Up About an hour   0.0.0.0:6333-6334->6333-6334/tcp   gifted_goldstine\n"
     ]
    }
   ],
   "source": [
    "!docker ps"
   ]
  },
  {
   "cell_type": "code",
   "execution_count": 187,
   "metadata": {},
   "outputs": [
    {
     "data": {
      "text/plain": [
       "list"
      ]
     },
     "execution_count": 187,
     "metadata": {},
     "output_type": "execute_result"
    }
   ],
   "source": [
    "type(embedding_floats[0])"
   ]
  },
  {
   "cell_type": "code",
   "execution_count": 18,
   "metadata": {},
   "outputs": [],
   "source": [
    "retrieved_points = qdrant_client.scroll(collection_name=\"daves-rag\")"
   ]
  },
  {
   "cell_type": "code",
   "execution_count": 197,
   "metadata": {},
   "outputs": [
    {
     "name": "stdout",
     "output_type": "stream",
     "text": [
      "[]\n",
      "None\n"
     ]
    }
   ],
   "source": [
    "for point in retrieved_points:\n",
    "    # print(f\"ID: {point.id}, Vector: {point.vector}\")\n",
    "    print(point)"
   ]
  },
  {
   "cell_type": "code",
   "execution_count": 198,
   "metadata": {},
   "outputs": [
    {
     "name": "stdout",
     "output_type": "stream",
     "text": [
      "<class 'list'>\n",
      "50\n",
      "<class 'list'>\n",
      "384\n"
     ]
    }
   ],
   "source": [
    "print(type(embedding_floats))  # Should be <class 'list'>\n",
    "print(len(embedding_floats))   # Should match the number of vectors\n",
    "print(type(embedding_floats[0]))  # Should be <class 'list'>\n",
    "print(len(embedding_floats[0]))  # Should match vector dimension (e.g., 384)\n"
   ]
  },
  {
   "cell_type": "code",
   "execution_count": 28,
   "metadata": {},
   "outputs": [
    {
     "name": "stdout",
     "output_type": "stream",
     "text": [
      "ID: 0, Vector: [0.03929654508829117, 0.0678536593914032, -0.08530523627996445, -0.060866933315992355, 0.09488528966903687, -0.03932705521583557, -0.11184870451688766, 0.04735111817717552, 0.08280343562364578, -0.021936504170298576, -0.047961313277482986, -0.02282128483057022, -0.020700858905911446, -0.017192238941788673, -0.06529084593057632, 0.05836513265967369, -0.018595686182379723, -0.03636761009693146, -0.019556744024157524, 0.018260080367326736, 0.086769700050354, 0.051836047321558, 0.001554089947603643, -0.07767780125141144, -0.034750595688819885, 0.006742652505636215, 0.0021680984646081924, 0.10098724067211151, 0.05635149031877518, 0.08323056995868683, -0.07432172447443008, 0.04640531539916992, 0.10952996462583542, 0.023873871192336082, 0.09403102099895477, -0.048968132585287094, -0.040303368121385574, 0.03780156746506691, 0.04509339481592178, 0.027199434116482735, -0.022668737918138504, 0.0065062022767961025, 0.026512963697314262, -0.03594047576189041, 0.01969403773546219, -0.026421435177326202, -0.01584981009364128, 0.04091356322169304, -0.03160808980464935, 0.001282362500205636, -0.013088678941130638, 0.029945310205221176, 0.06138559803366661, -0.028435077518224716, 0.04744264483451843, 0.006677819415926933, 0.05836513265967369, 0.02677229791879654, -0.015132831409573555, -0.053300514817237854, 0.05894481763243675, 0.020151684060692787, -0.03374377265572548, 0.03279796987771988, -0.060012660920619965, 0.1206965297460556, -0.04509339481592178, -0.0659620612859726, -0.01395820640027523, -0.035299770534038544, -0.052842870354652405, -0.03319459781050682, -0.004347637761384249, 0.09445815533399582, -0.0027096462436020374, 0.037282902747392654, -0.015819299966096878, 0.0031672923360019922, 0.033713262528181076, -0.0998888909816742, -0.05973806977272034, 0.010884350165724754, 0.05687015503644943, -0.03877788037061691, 0.023034853860735893, -0.08817315101623535, -0.0009319772361777723, 0.10599083453416824, 0.04829691722989082, 0.08414586633443832, 0.012806463055312634, -0.10806550085544586, 0.006937152240425348, -0.03468957543373108, -0.027031630277633667, -0.03526926040649414, 0.020517800003290176, -0.07157585024833679, -0.03444549813866615, -0.015788789838552475, 0.0032130570616573095, 0.025399358943104744, -0.07316235452890396, 0.06821978092193604, -0.06809774041175842, 0.061599165201187134, 0.0063117025420069695, -0.05235471576452255, 0.042957715690135956, 0.03221828490495682, -0.007604552898555994, -0.0019735987298190594, -0.0174363162368536, 0.005705321207642555, 0.010754683054983616, 0.08426789939403534, 0.017176983878016472, -0.02393489144742489, 0.039754193276166916, 0.010998761281371117, 0.016643064096570015, -0.04259159788489342, 0.03496416285634041, 0.015468438155949116, -0.014675185084342957, -0.07609128952026367, 0.06111101061105728, -0.04286618530750275, -0.0631551593542099, 0.06864691525697708, 0.02770284377038479, 0.060653362423181534, -0.025399358943104744, 0.003699305932968855, 0.03902195766568184, 0.009419882670044899, -0.03847278282046318, -0.06986730545759201, 0.004305687267333269, 0.046527352184057236, 0.01112842746078968, 0.030692799016833305, -0.06111101061105728, 0.02460610494017601, -0.032401345670223236, 0.081094890832901, 0.059921130537986755, 0.06291108578443527, 0.024575596675276756, -0.14571452140808105, 0.0045917159877717495, 0.017009180039167404, 0.05137840285897255, -0.08341363072395325, -0.06022622808814049, -0.04735111817717552, 0.010106351226568222, -0.047564685344696045, 0.007421494461596012, -0.053880199790000916, 0.08054571598768234, -0.03706933557987213, 0.023141637444496155, 0.004885372240096331, 0.06346026062965393, 0.016246436163783073, -0.01989234983921051, 0.018519412726163864, 0.030204642564058304, 0.06828080117702484, -0.018366863951086998, -0.0011050247121602297, -0.0480833500623703, -0.014270931482315063, 0.060958459973335266, -0.0329810306429863, 0.05259879305958748, 0.02611633762717247, 0.011692858301103115, 0.012570013292133808, -0.12002532184123993, 0.05687015503644943, -0.05394122004508972, 0.03307255730032921, 0.0593719556927681, 0.004458235576748848, 0.030387701466679573, -0.06870793551206589, -0.0659620612859726, 0.022104306146502495, -0.054154787212610245, -0.09592262655496597, -0.06013469770550728, -0.12484585493803024, -0.03472008556127548, 0.02073136903345585, -0.0074253082275390625, 0.06022622808814049, 0.0026181170251220465, -0.01055637001991272, 0.017329532653093338, -0.032096248120069504, -0.0773116797208786, 0.011753877624869347, 0.036062512546777725, -0.007082073483616114, -0.010701291263103485, 0.0018887436017394066, -0.001371031510643661, -0.016429495066404343, -0.02611633762717247, 0.0632161796092987, 0.02320265769958496, 0.018534667789936066, 0.1178896352648735, 0.05638200044631958, 0.005979909095913172, -0.012196268886327744, -0.06437554955482483, -0.012135249562561512, -0.06461963057518005, 0.0006869458593428135, 0.10873671621084213, 0.023889126256108284, 0.02158564142882824, -0.05928042531013489, 0.05921940505504608, -0.05290389060974121, -0.06724346429109573, 0.04253057762980461, 0.04195089265704155, 0.029274096712470055, -0.07798289507627487, 0.05525314062833786, -0.05024954304099083, 0.014888753183186054, 0.03264542296528816, 0.009351235814392567, 0.00014563633885700256, 0.0820712000131607, -0.009213941171765327, 0.03237083554267883, -0.0632161796092987, -0.03337765485048294, -0.0329810306429863, 0.045123904943466187, 0.041249167174100876, 0.027504531666636467, -0.02573496662080288, -0.04399504512548447, -0.11795065551996231, 0.07285726070404053, 0.08060673624277115, 0.06153814494609833, 0.005690066609531641, -0.09549548476934433, -0.008763923309743404, 0.03252338245511055, 0.021143250167369843, -0.10830957442522049, 0.07139278948307037, -0.014179402031004429, -0.01896180398762226, 0.07645741105079651, 0.04735111817717552, 0.00928258802741766, 0.08304751664400101, -0.08756295591592789, -0.01376751996576786, -0.08316954970359802, -0.06529084593057632, 0.004237040411680937, -0.01583455502986908, 0.06449759006500244, 0.05714474245905876, 0.0004686105530709028, -0.01905333250761032, 0.07102667540311813, -0.0395711325109005, 0.04329331964254379, -0.017375297844409943, 0.008557981811463833, 0.02245516888797283, 0.0500054657459259, -0.017390551045536995, 0.11428948491811752, 0.05516161024570465, -0.009229196235537529, 0.0575108602643013, -0.09067495167255402, -0.033804792910814285, -0.1047094315290451, 0.02366030402481556, -0.04948679730296135, -0.01998388022184372, 0.028587626293301582, -0.004606970585882664, -0.021646659821271896, -0.02942664362490177, 0.05885328724980354, 0.022882305085659027, -0.055009063333272934, -0.00980125367641449, -0.0349031426012516, -0.0838407650589943, -0.004892999771982431, -0.019938115030527115, 0.03749646991491318, 0.004523069132119417, -0.02791641280055046, 0.03224879503250122, -0.009183431975543499, 0.02921307645738125, -0.0669993907213211, -0.0981193259358406, -0.05235471576452255, 0.08963761478662491, -0.0395711325109005, -0.018260080367326736, 0.013103933073580265, -0.006628240924328566, -0.048602014780044556, 0.03987623006105423, 0.047961313277482986, 0.032584402710199356, -0.02866390161216259, 0.0004585995338857174, 0.04491033777594566, -0.019343174993991852, -0.06303312629461288, 0.044086575508117676, -0.036062512546777725, -0.004702313803136349, -0.06181273236870766, -0.06272802501916885, 0.06153814494609833, -0.025338338688015938, -0.04042540490627289, -0.014110755175352097, -0.04640531539916992, 0.0029232145752757788, 0.007585484068840742, 0.0037069334648549557, 0.033133577555418015, -0.00900037307292223, -0.019297411665320396, 0.05214114487171173, 0.07578619569540024, 0.01565149612724781, -0.04167630523443222, 0.025994298979640007, -0.01847364753484726, 0.17854300141334534, -0.02375183254480362, -0.02347724512219429, -0.06285006552934647, 0.07798289507627487, -0.06260598450899124, -0.01610914245247841, 0.056046392768621445, -0.11959818005561829, 0.019724547863006592, -0.00045001867692917585, -0.01810753159224987, 0.05543619766831398, 0.00739861186593771, -0.04204242303967476, -0.1263103187084198, 0.03414040058851242, -0.03636761009693146, -0.012386954389512539, -0.08640358597040176, 0.04658837243914604, 0.017832942306995392, -0.06205681338906288, 0.03224879503250122, 0.10641797631978989, 0.026177357882261276, 0.06870793551206589, 0.001541695324704051, -0.05534466728568077, 0.015361654572188854, 0.0013986809644848108, -0.029472408816218376], Text: {'label': 'sample_0'}\n",
      "ID: 1, Vector: [0.030812153592705727, 0.03267308697104454, -0.030995195731520653, -0.07541351020336151, 0.05848207697272301, -0.0016797962598502636, -0.09341268986463547, 0.06375980377197266, 0.08090478181838989, 0.030522335320711136, -0.06238698214292526, -0.039811741560697556, 0.005140443332493305, -0.048902854323387146, -0.03358829766511917, 0.05625506117939949, -0.003210870549082756, -0.05781092122197151, 0.035296693444252014, 0.041428618133068085, 0.0711425170302391, -0.010883402079343796, -0.01873134821653366, -0.055004268884658813, 0.019326236099004745, 0.010273260064423084, -0.013598532415926456, 0.03398488834500313, 0.03898805007338524, 0.06186836212873459, -0.053753480315208435, 0.03691357001662254, 0.09451094269752502, 0.015650132670998573, 0.08877561241388321, -0.020943112671375275, -0.07382714003324509, 0.03968971595168114, 0.03578480705618858, -0.013926482759416103, -0.009182631969451904, 0.06369879096746445, 0.07217975705862045, -0.04518098756670952, 0.006135737057775259, 0.004991721361875534, -0.041367605328559875, 0.058817654848098755, -0.0211261548101902, 0.02085159160196781, 0.037066105753183365, 0.021080393344163895, 0.045150481164455414, -0.016168754547834396, 0.033893369138240814, -0.0023452320601791143, 0.07224076986312866, -0.02535138465464115, -0.0401168130338192, -0.04420476406812668, 0.07419322431087494, -0.01175285317003727, -0.028829192742705345, 0.043411578983068466, -0.033344242721796036, 0.0964633971452713, -0.0647360309958458, -0.08401650190353394, -0.00018494918185751885, 0.006391233764588833, -0.06089213490486145, -0.041367605328559875, -0.021232929080724716, 0.11379142105579376, 0.09951410442590714, 0.03160533681511879, 0.02568696439266205, 0.02274302951991558, 0.0048887599259614944, -0.0893857553601265, -0.05744483694434166, -0.0077449856325984, 0.04807916283607483, -0.064797043800354, -0.006799266207963228, -0.08523678779602051, 0.014658653177320957, 0.07626770436763763, 0.05729230120778084, 0.06803079694509506, -0.003393912920728326, -0.07315598428249359, 0.023215889930725098, -0.04063543304800987, -0.015756908804178238, -0.018639827147126198, -0.027075035497546196, -0.07425423711538315, -0.06571225821971893, -0.034320466220378876, 0.07352206856012344, 0.06528515368700027, -0.06595630943775177, 0.10390712320804596, -0.09774469584226608, 0.04042188450694084, 0.0016178287332877517, -0.0549127496778965, 0.0053501795046031475, -0.029622377827763557, 0.007626770529896021, -0.0017856176709756255, -0.005552289076149464, 0.012477396987378597, -0.003782878164201975, 0.09670744836330414, 0.05829903483390808, 0.010967296548187733, 0.09896497428417206, 0.03328322619199753, -0.022437959909439087, -0.018883883953094482, 0.0006130016990937293, 0.0076954117976129055, -0.016229767352342606, -0.0788303017616272, 0.03740168362855911, -0.04243535175919533, -0.08602996915578842, 0.09274153411388397, -0.005945067852735519, 0.07785407453775406, -0.05408905819058418, 0.011104578152298927, 0.061349742114543915, -0.0006196750910021365, -0.0647360309958458, -0.03279511258006096, -0.015756908804178238, 0.0010381941683590412, 0.05527883395552635, 0.014559505507349968, -0.05076378583908081, 0.019661813974380493, -0.018533052876591682, 0.11934370547533035, 0.0647360309958458, 0.013918856158852577, 0.06308864802122116, -0.1387462168931961, -0.03676103428006172, 0.0158484298735857, 0.017129726707935333, -0.10726290196180344, -0.09933105856180191, -0.024664975702762604, -0.022926071658730507, 0.00848096888512373, 0.0013794921105727553, -0.0352051742374897, 0.049238432198762894, -0.013430743478238583, 0.01972282864153385, -0.040452390909194946, 0.06742065399885178, 0.0457606241106987, -0.005159510299563408, 0.020088912919163704, 0.03831689432263374, 0.06302763521671295, 0.00024083911557681859, -0.032703593373298645, 0.012546037323772907, -0.011714719235897064, 0.07083744555711746, -0.01597045734524727, 0.04475389048457146, 0.03612038493156433, -0.015322182327508926, -0.041154053062200546, -0.08230810612440109, 0.033893369138240814, -0.07486438006162643, -0.003506407840177417, 0.04932995140552521, -0.03709661215543747, -0.015085752122104168, -0.10286988317966461, -0.061776842921972275, 0.051434941589832306, -0.07895232737064362, -0.07998956739902496, -0.06595630943775177, -0.12556715309619904, -0.057139765471220016, 0.010997802950441837, -0.020180435851216316, 0.04289295896887779, -0.006738252006471157, 0.010891028679907322, 0.01626027561724186, -0.03438148275017738, -0.05753635615110397, 0.01597045734524727, -0.02795974165201187, 0.0029877873603254557, -0.035388216376304626, 0.003981174435466528, -0.051282405853271484, -0.014002750627696514, -0.06528515368700027, 0.06571225821971893, 0.008755533024668694, 0.056011002510786057, 0.10878825932741165, 0.013140926137566566, -0.0009523929911665618, 0.010921535082161427, -0.007451354991644621, -0.02513783611357212, 0.02259049378335476, 0.017343277111649513, 0.10659174621105194, -0.01221808698028326, 0.016702627763152122, -0.041855718940496445, 0.029698645696043968, -0.020882098004221916, -0.038896530866622925, 0.05863461270928383, 0.05076378583908081, 0.04615721479058266, -0.030079983174800873, 0.008717399090528488, -0.06729862093925476, -0.009426688775420189, 0.054302606731653214, 0.022514227777719498, 0.006906040944159031, 0.0901179239153862, 0.059946417808532715, 0.008053869940340519, -0.06089213490486145, 0.006738252006471157, -0.033557791262865067, 0.04640127345919609, 0.04274042323231697, 0.048109669238328934, -0.05189254879951477, -0.06803079694509506, -0.10494436323642731, 0.008092003874480724, 0.05265522375702858, 0.06571225821971893, 0.002797118155285716, -0.11855052411556244, 0.0015920883743092418, 0.04661482200026512, 0.010189365595579147, -0.11086273938417435, 0.060007430613040924, 0.045516565442085266, 0.02872241847217083, 0.037767767906188965, 0.08224709331989288, 0.0007636304362677038, 0.05244167521595955, -0.07016628980636597, 0.00893857516348362, -0.060800615698099136, -0.04591315984725952, -0.015085752122104168, 0.010067337192595005, 0.07712190598249435, 0.06388182938098907, -0.02928679995238781, -0.03145280107855797, 0.0922534167766571, -0.041642166674137115, 0.02617507614195347, 0.024664975702762604, 0.028386840596795082, 0.0008870887686498463, 0.02914951741695404, 0.002078294986858964, 0.060587067157030106, 0.060861628502607346, -0.016153499484062195, 0.048536770045757294, -0.06516312807798386, -0.026281852275133133, -0.07998956739902496, 0.020241448655724525, -0.09158226102590561, -0.013224820606410503, 0.04423527047038078, 0.007756425533443689, -0.013072284869849682, -0.017785629257559776, 0.07474235445261002, 0.03130026534199715, -0.06211242079734802, -0.03968971595168114, -0.06119720637798309, -0.08267419040203094, -0.00700518861413002, -0.03560176491737366, 0.03688306361436844, 0.03441198915243149, 0.0064941952005028725, 0.018975405022501945, -0.013262954540550709, 0.011646078899502754, -0.04695039987564087, -0.04838423430919647, -0.04112354665994644, 0.08456563204526901, -0.07297293841838837, -0.05662114545702934, 0.002648396184667945, 0.01908217929303646, -0.05570593103766441, 0.01894489862024784, -0.016229767352342606, 0.020119421184062958, -0.004930707160383463, 0.06284458935260773, 0.08468765765428543, -0.028005501255393028, -0.10817811638116837, -0.009060603566467762, -0.0337713398039341, -0.03438148275017738, -0.08127086609601974, -0.09811078011989594, 0.036364443600177765, 0.0023852724116295576, -0.04039137810468674, -0.004175656940788031, -0.040238842368125916, 0.012439263053238392, -0.015093378722667694, 0.0507027693092823, 0.012690946459770203, 0.01732802204787731, -0.0373101606965065, 0.03551024571061134, 0.09774469584226608, -0.02280404418706894, -0.02434465102851391, 0.0015358409145846963, -0.019875364378094673, 0.14887456595897675, -0.026708951219916344, -0.04026934877038002, -0.05900069698691368, 0.09188733249902725, -0.07169164717197418, -0.040086306631565094, 0.062051404267549515, -0.06461399793624878, 0.05610252544283867, 0.053753480315208435, -0.07449829578399658, 0.06943412125110626, 0.004915453493595123, -0.04475389048457146, -0.09518209844827652, 0.006238698493689299, -0.0306138563901186, 0.015924697741866112, -0.03367982059717178, 0.021217675879597664, 0.05872613564133644, -0.005285352002829313, 0.0408184751868248, 0.08639606088399887, 0.06449197232723236, 0.08932473510503769, 0.011218979954719543, -0.08047768473625183, 0.010807134211063385, -0.05112987011671066, 0.005891680251806974], Text: {'label': 'sample_1'}\n",
      "ID: 2, Vector: [0.035682909190654755, 0.035347141325473785, -0.006036181002855301, -0.07759277522563934, 0.042489830404520035, 0.030478516593575478, -0.07826431095600128, 0.048655737191438675, 0.04487072303891182, 0.033485159277915955, -0.07612761110067368, -0.01727675460278988, 0.028219718486070633, -0.06770290434360504, -0.010500360280275345, 0.019092950969934464, -0.00018505357729736716, -0.040627848356962204, 0.08046206086874008, 0.03321044147014618, 0.07753172516822815, -0.04487072303891182, -0.020481806248426437, -0.034126169979572296, 0.028280766680836678, -0.01138556469231844, -0.02209959551692009, 0.012072362005710602, 0.029379641637206078, 0.05219655856490135, -0.025487791746854782, 0.023167945444583893, 0.08388078212738037, -0.016299977898597717, 0.08870362490415573, -0.020649690181016922, -0.05860666185617447, 0.04999880865216255, 0.028723368421196938, -0.0033557654824107885, -0.019260834902524948, 0.043710801750421524, 0.060957033187150955, -0.06126227602362633, -0.008523911237716675, 0.014544829726219177, -0.017215706408023834, 0.0406888946890831, -0.014094596728682518, 0.016116831451654434, 0.044351812452077866, 0.04670218378305435, 0.012621799483895302, 0.0003758304810617119, 0.005639364942908287, -0.035133473575115204, 0.03614077344536781, -0.04932727292180061, -0.022252216935157776, -0.02023761346936226, 0.07655495405197144, -0.012782052159309387, -0.03604920208454132, 0.02077178843319416, -0.017307279631495476, 0.08333134651184082, -0.07496768981218338, -0.07612761110067368, -0.01220972090959549, 0.013171236962080002, -0.03397354856133461, -0.02539622038602829, -0.014315897598862648, 0.07936318963766098, 0.083575539290905, 0.05176921561360359, 0.029837505891919136, -0.0055745006538927555, -0.010652981698513031, -0.08192722499370575, -0.03647654131054878, -0.010263796895742416, 0.01243102177977562, -0.06806919723749161, 0.021733302623033524, -0.05457745119929314, 0.04670218378305435, 0.05253232643008232, 0.06574934720993042, 0.06605459004640579, 0.00541424797847867, -0.06178118661046028, 0.018497727811336517, -0.09987551718950272, -0.03287467360496521, -0.03354620933532715, -0.058331944048404694, -0.08082835376262665, -0.0747234895825386, -0.021809613332152367, 0.070327989757061, 0.07930213958024979, -0.03583553060889244, 0.11177999526262283, -0.0979219600558281, 0.05198288708925247, 0.02023761346936226, -0.04807577654719353, 0.020054467022418976, -0.02516728825867176, 0.0007354448898695409, 0.0005398985813371837, 0.02651035599410534, 0.022145381197333336, 0.012400497682392597, 0.10127963870763779, 0.040963612496852875, -0.03647654131054878, 0.11959421634674072, 0.0373922698199749, -0.016071045771241188, -0.02541148103773594, -0.01990184560418129, -0.015658967196941376, -0.028112882748246193, -0.1022564172744751, 0.04670218378305435, -0.018726659938693047, -0.06385684013366699, 0.11574815213680267, -0.015193471685051918, 0.06959541141986847, -0.05573737621307373, -0.02560988999903202, 0.07490663975477219, 0.037544891238212585, -0.04300874099135399, -0.0012715279590338469, -0.011645021848380566, 0.00901230052113533, 0.04813682660460472, 0.005734753329306841, -0.027075055986642838, -0.009248863905668259, -0.0373617447912693, 0.1329638659954071, 0.053264908492565155, -0.018436679616570473, 0.04230668395757675, -0.11092531681060791, -0.03180632367730141, -0.012133410200476646, 0.01165265217423439, -0.12044889479875565, -0.06941226124763489, -0.00016299501294270158, -0.013072032481431961, 0.005654626991599798, 0.02970014698803425, -0.010652981698513031, 0.06648193299770355, -0.03794170916080475, 0.016574695706367493, -0.04456548020243645, 0.058331944048404694, 0.021397536620497704, 0.005929345730692148, 0.032264187932014465, 0.04047522693872452, 0.06397894024848938, 5.4490650654770434e-05, -0.006352870259433985, 0.0021443322766572237, -0.016132093966007233, 0.07179316133260727, -0.03769751265645027, 0.055462658405303955, 0.025442006066441536, -0.06080441176891327, -0.04099413752555847, -0.09798301011323929, 0.018329843878746033, -0.08742160350084305, -0.02528938464820385, 0.039742641150951385, -0.030631138011813164, -0.06220852956175804, -0.06794709712266922, -0.04352765530347824, 0.07460139691829681, -0.08546804636716843, -0.07130476832389832, -0.05442482978105545, -0.13613839447498322, -0.037636466324329376, 0.02397684007883072, -0.00734109478071332, -0.0006228865240700543, -0.018970854580402374, 0.02209959551692009, 0.017337804660201073, -0.02594565786421299, -0.029410164803266525, 0.027853425592184067, 0.029608573764562607, -0.004418392665684223, -0.0626358687877655, -0.028280766680836678, -0.06434523314237595, -0.014911121688783169, -0.05991920456290245, 0.07777592539787292, 0.022832177579402924, 0.042154062539339066, 0.11599235236644745, -0.0033920130226761103, 0.00025587950949557126, 0.03702598065137863, 0.014033548533916473, -0.05729411542415619, 0.04734319448471069, 0.04404656961560249, 0.09029088914394379, -0.03638496994972229, 0.027853425592184067, -0.07594446837902069, 0.03455350920557976, 0.00382126122713089, -0.048869408667087555, 0.0539059191942215, 0.04407709464430809, 0.0351639948785305, -0.031043216586112976, 0.011767118237912655, -0.07307518273591995, 0.01903190277516842, 0.03614077344536781, 0.027731329202651978, 0.013232285156846046, 0.09749462455511093, 0.05582895129919052, 0.006402472499758005, -0.07386881113052368, -0.011072690598666668, -0.03032589517533779, 0.055706851184368134, 0.03791118413209915, 0.038735341280698776, -0.0857122391462326, -0.07222049683332443, -0.08931411057710648, 0.003151634242385626, 0.03836904838681221, 0.0868111178278923, 0.008790998719632626, -0.11483242362737656, -0.020710740238428116, 0.06306321173906326, 0.0016960065113380551, -0.10946015268564224, 0.07325832545757294, 0.053509101271629333, 0.030478516593575478, 0.034461937844753265, 0.10182907432317734, 0.002630813280120492, 0.051067158579826355, -0.07130476832389832, 0.019840797409415245, -0.07331937551498413, -0.017658308148384094, -0.005288335494697094, 0.008699426427483559, 0.06605459004640579, 0.06211695447564125, -0.028875989839434624, -0.015056111849844456, 0.0780201181769371, -0.01138556469231844, 0.013659625314176083, 0.0018715213518589735, 0.05179974064230919, 0.015162947587668896, 0.026434045284986496, 0.0060209184885025024, 0.046793755143880844, 0.04554225876927376, -0.005280704237520695, 0.052929140627384186, -0.05729411542415619, -0.020710740238428116, -0.04624431952834129, -0.00043926379294134676, -0.08284296095371246, -0.01639155112206936, 0.05222708359360695, 0.023503713309764862, -0.03693440556526184, -0.023488450795412064, 0.06526096165180206, 0.022511674091219902, -0.05759935826063156, -0.05949186533689499, -0.025243598967790604, -0.07966843247413635, -0.010927700437605381, -0.025655675679445267, 0.04978513717651367, 0.03879638761281967, 0.04548121243715286, -0.015430035069584846, -0.01628471538424492, 0.01802460104227066, -0.05897295102477074, -0.05152502283453941, -0.05695834755897522, 0.10817813128232956, -0.08284296095371246, -0.05033457651734352, 0.006711530964821577, 0.005086111836135387, -0.07295308262109756, 0.05341752991080284, 0.001590125379152596, 0.00951595138758421, -0.025686200708150864, 0.06440627574920654, 0.06434523314237595, -0.02725820243358612, -0.08296505361795425, -0.021290700882673264, -0.007890531793236732, -0.050731390714645386, -0.06874073296785355, -0.12112043052911758, 0.04444338381290436, 0.012079992331564426, -0.045328591018915176, 0.005830141715705395, -0.012064730748534203, 0.03113478794693947, -0.027090318500995636, 0.038521669805049896, 0.031409505754709244, 0.009088611230254173, -0.04010893404483795, 0.044596005231142044, 0.11287887394428253, -0.03540819138288498, -0.02780763991177082, -0.03894900903105736, -0.018879281356930733, 0.12844626605510712, -0.02274060621857643, -0.06022444739937782, -0.04868626222014427, 0.09541896730661392, -0.07008379697799683, -0.05137240141630173, 0.0659935399889946, -0.07307518273591995, 0.07637180387973785, 0.07099952548742294, -0.07759277522563934, 0.06016340106725693, 0.005868297070264816, -0.055462658405303955, -0.06294111162424088, -0.004361159633845091, -0.03553028777241707, 0.0013840863248333335, -0.02396157756447792, 0.01758199743926525, 0.08485756069421768, 0.0028139592614024878, 0.0065970649011433125, 0.06211695447564125, 0.07783696800470352, 0.09438114613294601, -0.00869179517030716, -0.09511372447013855, 0.00436879089102149, -0.04319188743829727, 0.02277112938463688], Text: {'label': 'sample_2'}\n",
      "ID: 3, Vector: [0.023008182644844055, -0.0004851381527259946, -0.0009869640925899148, -0.0699399933218956, 0.03069792129099369, 0.05001381039619446, -0.0404321514070034, 0.048854246735572815, 0.039455678313970566, 0.025907091796398163, -0.061487384140491486, 0.00244881515391171, 0.004272076301276684, -0.04946454241871834, -0.006217396818101406, 0.0309725534170866, 0.02047545276582241, -0.024106716737151146, 0.10112614929676056, 0.030606376007199287, 0.0914834663271904, -0.04665717855095863, 0.005809260997921228, -0.01291540265083313, 0.02502216212451458, -0.03274241462349892, -0.027310773730278015, 0.00747613376006484, 0.02638007141649723, 0.023298073559999466, -0.01963629387319088, 0.015188757330179214, 0.07628707587718964, -0.06548482924699783, 0.08452608436346054, -0.011732952669262886, -0.07360177487134933, 0.06511864811182022, 0.06414217501878738, 0.025739260017871857, -0.04626048356294632, 0.029828248545527458, 0.04922042414546013, -0.042659733444452286, -0.0009235504548996687, -0.007430361583828926, 0.04330054670572281, 0.016539039090275764, -0.009604543447494507, 0.03680088743567467, 0.06340982019901276, 0.04976969212293625, -0.013518070802092552, 0.03741118311882019, -0.024335578083992004, -0.03744169697165489, 0.05709325149655342, -0.02554091438651085, 0.034603819251060486, -0.02903486229479313, 0.06218922883272171, -0.0027081912849098444, -0.04436856508255005, 0.0006169717526063323, -0.015371846035122871, 0.014990410767495632, -0.06878042966127396, -0.075127512216568, -0.004764128010720015, 0.012892516329884529, -0.04946454241871834, -0.022474173456430435, 0.0005850265151821077, 0.04165274649858475, 0.03792993724346161, 0.01940743252635002, 0.010771735571324825, 0.017576543614268303, -0.004253004677593708, -0.09374156594276428, -0.02880600094795227, -6.061246676836163e-05, -0.0036655941512435675, -0.0645693838596344, 0.03713655099272728, -0.00858992524445057, 0.038387659937143326, 0.054499488323926926, 0.047511592507362366, 0.06106017902493477, 0.008376321755349636, -0.03951670601963997, 0.000687060528434813, -0.11998432129621506, -0.02609018050134182, -0.00952825602144003, -0.0778738483786583, -0.09844084829092026, -0.06328775733709335, 0.0035721424501389265, 0.05629986524581909, 0.038357142359018326, -0.012541595846414566, 0.1158343032002449, -0.056971192359924316, 0.024549182504415512, 0.03908950090408325, -0.05669655650854111, 0.05462154746055603, -0.04626048356294632, -0.005015875678509474, -0.004577224608510733, 0.07402898371219635, 0.006934495642781258, 0.011244715191423893, 0.11809239536523819, 0.054804638028144836, -0.06005318835377693, 0.161362424492836, 0.005164635367691517, -0.015303188003599644, -0.02075008489191532, -0.09056802093982697, -0.04742004722356796, -0.03252881020307541, -0.10576440393924713, 0.05001381039619446, -0.02609018050134182, -0.04595533758401871, 0.1264534592628479, -0.019544750452041626, 0.08562462031841278, -0.04406341537833214, -0.04659614711999893, 0.07140470296144485, 0.06347084790468216, -0.004535266663879156, 0.009162078611552715, -0.015944000333547592, -0.024366093799471855, 0.03902846947312355, 0.0022161395754665136, -0.006621718406677246, -0.0009955463465303183, -0.03707551956176758, 0.11461370438337326, 0.05147852003574371, -0.014364857226610184, 0.011008225381374359, -0.07610399276018143, 0.01832415722310543, -0.01777488924562931, 0.016493266448378563, -0.10881589353084564, -0.09508421272039413, -0.02853136695921421, -0.0054392688907682896, -0.006484401877969503, 0.012358507141470909, -0.009780003689229488, 0.07073338329792023, -0.042903851717710495, -0.05602522939443588, -0.03478690981864929, 0.008033029735088348, 0.006678933743387461, 0.037014491856098175, 0.027234487235546112, 0.03313910588622093, 0.06255540251731873, 0.02613595314323902, 0.010733592323958874, -0.04168326035141945, -0.03442072868347168, 0.06487452983856201, -0.056910160928964615, 0.034329187124967575, 0.053431469947099686, -0.10985339432954788, -0.042079951614141464, -0.10143130272626877, 0.026227498427033424, -0.05138697475194931, -0.03731963783502579, 0.015028554946184158, 0.0003204057284165174, -0.027310773730278015, -0.05840538814663887, -0.03390197828412056, 0.07055029273033142, -0.07640913873910904, -0.031888000667095184, -0.05355352908372879, -0.14598295092582703, -0.04168326035141945, 0.03814353793859482, -0.013464669696986675, 0.00791096966713667, -0.02937052585184574, 0.05010535195469856, 0.007636336609721184, -0.042079951614141464, 0.003543534781783819, -0.0028264361899346113, 0.07921650260686874, 0.0013750746147707105, -0.06658336520195007, -0.040737301111221313, -0.041072964668273926, 0.0019338774727657437, -0.03731963783502579, 0.08989669382572174, 0.02070431411266327, 0.06865837424993515, 0.07891135662794113, 0.018781878054142, 0.0032288506627082825, 0.043453119695186615, 0.009085791185498238, -0.0322541780769825, 0.0645693838596344, 0.06847528368234634, 0.09099522978067398, -0.06835322082042694, 0.027112428098917007, -0.049403510987758636, 0.007003153674304485, 0.024594955146312714, -0.04946454241871834, 0.006778107024729252, 0.06163996085524559, 0.01560833677649498, -0.004512380808591843, -0.005752045661211014, -0.06078554317355156, 0.013655386865139008, 0.030545346438884735, 0.020307620987296104, 0.004531452432274818, 0.11522400379180908, 0.0698789656162262, 0.02096368931233883, -0.02775323949754238, -0.01939217559993267, -0.021055234596133232, 0.030347000807523727, 0.030057109892368317, 0.022931896150112152, -0.08721138536930084, -0.07824002951383591, -0.08849301189184189, -0.030545346438884735, 0.015013297088444233, 0.06939072906970978, 0.03417661041021347, -0.14049027860164642, -0.01963629387319088, 0.10362836718559265, 0.0023744353093206882, -0.1105247214436531, 0.05590317025780678, 0.034847937524318695, 0.015928741544485092, 0.05218036100268364, 0.10381145775318146, -0.0005368703277781606, 0.07860620319843292, -0.06536276638507843, 0.08550255745649338, -0.07177088409662247, -0.01959052123129368, -0.028180446475744247, -0.00021884855232201517, 0.043147973716259, 0.03149130567908287, -0.013975792564451694, 0.009337538853287697, 0.0833665207028389, -0.0350005105137825, 0.05056307464838028, 0.025464627891778946, 0.07024513930082321, 0.028653426095843315, 0.02715820074081421, 0.003568328218534589, 0.04998329281806946, 0.017591800540685654, -0.023618480190634727, 0.016813673079013824, -0.10454381257295609, -0.048060860484838486, -0.01264839805662632, -0.00463062571361661, -0.05495721101760864, -0.04763365164399147, 0.02715820074081421, 0.04195789247751236, -0.0242592915892601, -0.014380114153027534, 0.05306529253721237, -0.00041576457442715764, -0.07836208492517471, -0.0377163328230381, -0.011893155984580517, -0.09447392076253891, -0.025739260017871857, -0.03680088743567467, 0.03814353793859482, 0.04433805122971535, 0.0914834663271904, -0.022550459951162338, -0.032132118940353394, 0.06267746537923813, -0.09630481153726578, -0.05996164306998253, -0.055323388427495956, 0.12962700426578522, -0.0565439835190773, -0.01852250285446644, -0.028149932622909546, -0.004966288805007935, -0.05620831996202469, 0.024655984714627266, 0.020322877913713455, -0.009848661720752716, -0.05272962898015976, 0.0836106389760971, 0.044551655650138855, -0.022825093939900398, -0.0888591930270195, 0.00343482568860054, -0.027036141604185104, -0.05495721101760864, -0.015265044756233692, -0.10472690314054489, 0.032956019043922424, 0.0006908748764544725, -0.020307620987296104, 0.028973832726478577, 0.0033547242637723684, 0.036434710025787354, -0.05242447927594185, 0.05221087858080864, 0.03609904646873474, -0.022748807445168495, -0.029980821534991264, 0.014036822132766247, 0.1155291497707367, -0.044277019798755646, -0.026837794110178947, -0.03411558270454407, -0.014586089178919792, 0.05840538814663887, -0.04330054670572281, -0.08745551109313965, -0.02877548709511757, 0.07714149355888367, -0.08007092028856277, -0.035671837627887726, 0.022794580087065697, -0.06945175677537918, 0.07946062088012695, 0.0888591930270195, -0.06261643767356873, 0.014135995879769325, 0.02316075749695301, -0.08232901245355606, -0.011954185552895069, 0.0038524975534528494, -0.040493182837963104, -0.0004915748722851276, -0.03390197828412056, 0.04384981468319893, 0.09050699323415756, 0.02477804385125637, 0.0012816229136660695, 0.011961814016103745, 0.06914661079645157, 0.07683634757995605, -0.028149932622909546, -0.07665325701236725, 0.02398465760052204, -0.021589243784546852, -0.00422630412504077], Text: {'label': 'sample_3'}\n",
      "ID: 4, Vector: [0.015208289958536625, 0.028830157592892647, -0.022820061072707176, -0.040514763444662094, 0.02588612586259842, 0.06644665449857712, -0.03407755121588707, 0.03267417848110199, 0.05570779740810394, 0.02681662328541279, -0.03737242892384529, -0.015726927667856216, -0.024925120174884796, -0.043107952922582626, 0.018594689667224884, 0.03297926113009453, 0.0342911072075367, -0.04280287027359009, 0.09311073273420334, 0.014689652249217033, 0.09347683191299438, -0.04042323678731918, -0.018579434603452682, -0.02269802987575531, 0.031087758019566536, -0.027808137238025665, -0.015726927667856216, 8.205011545214802e-05, 0.02372005023062229, 0.033101294189691544, -0.022347185760736465, 0.03040132485330105, 0.09317175298929214, -0.0655314102768898, 0.0842023640871048, -0.03871478512883186, -0.06638563424348831, 0.047592643648386, 0.05177225172519684, 0.036762263625860214, -0.034748729318380356, 0.03487076237797737, 0.028250504285097122, -0.026084428653120995, -0.016413360834121704, -0.004316896665841341, 0.01769470050930977, 0.013118484988808632, -0.017816733568906784, 0.03181995078921318, 0.06498226523399353, 0.06272466480731964, -0.0014129065675660968, 0.050643451511859894, -0.016245566308498383, -0.031545378267765045, 0.05839250981807709, -0.04930109530687332, 0.0335589163005352, -0.015864213928580284, 0.07895497232675552, 0.001956332242116332, -0.04646384343504906, 0.006784239783883095, 0.0003946986107621342, 0.02074551023542881, -0.07370758056640625, -0.08511760830879211, 0.004881296772509813, 0.0036838536616414785, -0.03581651300191879, -0.004774518311023712, 0.004023256246000528, 0.05262647941708565, 0.027106450870633125, 0.019677726551890373, 0.023918353021144867, 0.01958620361983776, 0.0175421591848135, -0.06479921191930771, 0.0025340793654322624, -0.0031061063054949045, 0.010586312040686607, -0.039050374180078506, 0.031697921454906464, 0.01197443064302206, 0.028494568541646004, 0.04985024034976959, 0.05341969057917595, 0.04539605975151062, 0.01181426364928484, -0.017374364659190178, -0.015536252409219742, -0.12593744695186615, -0.02089805155992508, -0.021081099286675453, -0.07871090620756149, -0.09182939678430557, -0.06199246644973755, 0.003935545217245817, 0.06089417636394501, 0.06187043339014053, -0.018838753923773766, 0.13130688667297363, -0.04725705459713936, -0.0009419377311132848, 0.025077661499381065, -0.06565344333648682, 0.04771467670798302, -0.06589750200510025, -0.03712836280465126, -0.018289608880877495, 0.06583648920059204, 0.006421955768018961, 0.03088945522904396, 0.1029343456029892, 0.055951863527297974, -0.0693754255771637, 0.17499448359012604, -0.017404872924089432, -0.021645499393343925, -0.025642061606049538, -0.11568672955036163, -0.06742291152477264, -0.03609108552336693, -0.11989685148000717, 0.022728538140654564, -0.0073944018222391605, -0.04859941080212593, 0.1458287388086319, -0.00625797500833869, 0.07791769504547119, -0.04252829775214195, -0.06449413299560547, 0.06846018880605698, 0.07828379422426224, -0.0014272072585299611, -0.0037486832588911057, -0.011287998408079147, -0.017740461975336075, 0.04188762605190277, 0.021660754457116127, -0.00874057225883007, -0.02051669918000698, -0.040758825838565826, 0.11818839609622955, 0.05958232656121254, 0.011318506672978401, 0.022209899500012398, -0.08090749382972717, 0.017679445445537567, -0.03953850269317627, 0.02120313234627247, -0.1029343456029892, -0.1060461699962616, -0.019403154030442238, -0.026786115020513535, -0.0034378820564597845, 0.01700826734304428, 0.006105434149503708, 0.060253504663705826, -0.04417573660612106, -0.06809408962726593, -0.04103339836001396, 0.012439679354429245, 0.0017256146529689431, 0.031011488288640976, 0.028723379597067833, 0.043626587837934494, 0.07206014543771744, 0.018899770453572273, 0.02503190003335476, -0.00769948260858655, -0.03654870763421059, 0.06406702101230621, -0.04811127856373787, 0.07474485784769058, 0.02681662328541279, -0.08560574054718018, -0.02793016843497753, -0.11611384153366089, 0.020623479038476944, -0.06736189126968384, -0.0452435202896595, 0.009861744940280914, -0.011478674598038197, -0.05784336477518082, -0.08615488559007645, -0.02768610417842865, 0.05698913708329201, -0.08249391615390778, -0.05085701122879982, -0.04024019092321396, -0.1474151611328125, -0.03407755121588707, 0.03236909955739975, -0.010754106566309929, 0.005865183193236589, -0.0257335864007473, 0.04384014382958412, 0.013141365721821785, -0.02292684093117714, 0.0025188252329826355, 0.017038775607943535, 0.07895497232675552, 0.03258265554904938, -0.08609387278556824, -0.04750111699104309, -0.023140396922826767, -0.021355673670768738, -0.036853790283203125, 0.10354450345039368, 0.04557910934090614, 0.058300986886024475, 0.08761927485466003, 0.012363409623503685, 0.008938874118030071, 0.037250395864248276, 0.032094527035951614, -0.02356751076877117, 0.04710451140999794, 0.04304693639278412, 0.07132794708013535, -0.04625028744339943, 0.04344354197382927, -0.04557910934090614, 0.029272526502609253, 0.0002509768237359822, -0.06425006687641144, 0.03953850269317627, 0.03215554356575012, 0.027411531656980515, 0.003966053482145071, 0.013469328172504902, -0.07706347107887268, 0.005300783086568117, 0.02410140261054039, 0.018045542761683464, 0.007516433950513601, 0.13374753296375275, 0.0686432346701622, 0.032247066497802734, -0.029119985178112984, -0.01903705671429634, -0.01653539203107357, 0.0405452698469162, 0.00665076682344079, 0.034748729318380356, -0.08523964136838913, -0.06723985821008682, -0.10031064599752426, -0.02394886128604412, 0.001206023502163589, 0.057660315185785294, -0.006528734229505062, -0.11916465312242508, -0.039965614676475525, 0.08670403063297272, -0.000839926244225353, -0.09402597695589066, 0.04969770088791847, 0.041613053530454636, 0.0007331478991545737, 0.0671178326010704, 0.10317841172218323, -0.0077833798713982105, 0.07321944832801819, -0.08151765167713165, 0.0842023640871048, -0.04618927091360092, 0.016260819509625435, -0.021477704867720604, -0.02339971624314785, 0.04509097710251808, 0.012767641805112362, -0.01232527382671833, -0.003148054936900735, 0.08938874304294586, -0.03712836280465126, 0.031087758019566536, 0.005483831744641066, 0.05177225172519684, 0.020455684512853622, 0.017725208774209023, 0.014476095326244831, 0.05430442467331886, 0.02440648339688778, -0.021782785654067993, 0.023125143721699715, -0.11483250558376312, -0.02962336875498295, -0.03009624406695366, -0.014087117277085781, -0.0491180494427681, -0.056745074689388275, 0.019326884299516678, 0.04655536636710167, -0.023033618927001953, -0.027808137238025665, 0.04661638289690018, -0.01714555360376835, -0.06992457807064056, -0.04689095541834831, -0.022209899500012398, -0.09805304557085037, -0.027731867507100105, -0.03889783099293709, 0.04268083721399307, 0.035908039659261703, 0.08908366411924362, -0.02207261323928833, -0.01693199761211872, 0.0756600946187973, -0.09475816786289215, -0.05280952900648117, -0.05421290174126625, 0.12581542134284973, -0.06492124497890472, -0.019235359504818916, -0.027899662032723427, -0.00774143123999238, -0.04509097710251808, 0.037799540907144547, 0.013576106168329716, -0.030218277126550674, -0.049240078777074814, 0.06479921191930771, 0.05348070710897446, -0.025611553341150284, -0.07224319130182266, -0.005251207388937473, -0.016245566308498383, -0.0429249033331871, -0.00951852835714817, -0.10049369186162949, 0.046067237854003906, 0.008221933618187904, -0.0069024586118757725, 0.027579326182603836, 0.01469727884978056, 0.02899795211851597, -0.039813075214624405, 0.05436544120311737, 0.043870653957128525, -0.028128471225500107, -0.03596905618906021, 0.02253023535013199, 0.09872422367334366, -0.041857119649648666, -0.029348796233534813, -0.0358775295317173, -0.023216666653752327, 0.07114490121603012, -0.03609108552336693, -0.06534835696220398, -0.02776237390935421, 0.07858887314796448, -0.06791103631258011, -0.05107056722044945, 0.0014682025648653507, -0.07425672560930252, 0.058056920766830444, 0.10415466874837875, -0.057050153613090515, 0.01941840909421444, 0.01465914398431778, -0.07852786034345627, -0.023903099820017815, 0.019616711884737015, -0.03538940101861954, -0.005171123426407576, -0.02442173659801483, 0.04118594154715538, 0.06699579954147339, 0.013911695219576359, -0.005438069347292185, -0.007089320570230484, 0.058300986886024475, 0.07932107150554657, -0.03807411342859268, -0.04905703291296959, 0.02675560675561428, -0.028967445716261864, -0.004438929259777069], Text: {'label': 'sample_4'}\n"
     ]
    }
   ],
   "source": [
    "stored_vectors, _ = qdrant_client.scroll(\n",
    "    collection_name=\"daves-rag\",\n",
    "    with_vectors=True,\n",
    "    with_payload=True,\n",
    "    limit=5\n",
    ") \n",
    "\n",
    "for vec in stored_vectors:\n",
    "    print(f\"ID: {vec.id}, Vector: {vec.vector}, Text: {vec.payload}\")"
   ]
  },
  {
   "cell_type": "code",
   "execution_count": 30,
   "metadata": {},
   "outputs": [],
   "source": [
    "def retrieve_top_chunks(query:str, collection_name, chunks, n=5):\n",
    "    # Fetch all stored points\n",
    "    stored_points = qdrant_client.scroll(collection_name=\"daves-rag\", with_vectors=True, limit=1000)[0]\n",
    "    query_chunks = query_chunking([query])\n",
    "    query_embeddings = query_chunks.embeddings.float\n",
    "    \n",
    "    # Extract embeddings & IDs\n",
    "    chunk_embeddings = [point.vector for point in stored_points]\n",
    "    stored_ids = [point.id for point in stored_points]\n",
    "    \n",
    "    def cosine_similarity(a, b):\n",
    "        return np.dot(a, b) / (np.linalg.norm(a) * np.linalg.norm(b))\n",
    "\n",
    "    # --- Compute Similarity Scores ---\n",
    "    similarities = []\n",
    "    for chunk_embedding in chunk_embeddings:\n",
    "        subquery_scores = [cosine_similarity(query_embedding, chunk_embedding) for query_embedding in query_embeddings]\n",
    "        similarities.append(np.mean(subquery_scores))  # Average similarity if multiple subqueries\n",
    "\n",
    "    print(\"Similarity scores:\", similarities)\n",
    "\n",
    "    # --- Retrieve Top `n` Chunks ---\n",
    "    top_indices = np.argsort(similarities)[::-1][:n]  # Sort and get top `n`\n",
    "\n",
    "    # Retrieve top similar document chunks\n",
    "    top_chunks_after_retrieval = [chunks[i] for i in top_indices]\n",
    "\n",
    "    return top_chunks_after_retrieval"
   ]
  },
  {
   "cell_type": "code",
   "execution_count": 11,
   "metadata": {},
   "outputs": [],
   "source": [
    "import numpy as np\n",
    "import pandas as pd"
   ]
  },
  {
   "cell_type": "code",
   "execution_count": 22,
   "metadata": {},
   "outputs": [],
   "source": [
    "def get_llm_output(top_chunks, ch, query):\n",
    "    preamble = \"\"\"\n",
    "    ## Task & Context\n",
    "    You give answers to user's questions with precision, based on chunked document string you receive.\n",
    "    You should focus on serving the user's needs as best you can, which can be wide-ranging but always relevant to the document string.\n",
    "    If you are not sure about the answer, you can ask for clarification or provide a general response saying you are not sure.\n",
    "    \n",
    "    ## Style Guide\n",
    "    Unless the user asks for a different style of answer, you should answer in full sentences, using proper grammar and spelling.\n",
    "    \"\"\"\n",
    "\n",
    "    # retrieved documents\n",
    "    documents = [\n",
    "        {\"data\": {\"title\": f\"chunk {i}\", \"snippet\": top_chunks[i]}} for i in range(len(top_chunks))\n",
    "    ]\n",
    "\n",
    "    # get model response\n",
    "    response = ch.chat(\n",
    "        model=\"command-r-08-2024\",\n",
    "        messages=[{\"role\": \"system\", \"content\": preamble},\n",
    "                  {\"role\": \"user\", \"content\": query}],\n",
    "        documents=documents,  \n",
    "        temperature=0.3\n",
    "    )\n",
    "\n",
    "    print(\"Final answer:\")\n",
    "    print(response.message.content[0].text)\n"
   ]
  },
  {
   "cell_type": "code",
   "execution_count": 39,
   "metadata": {},
   "outputs": [
    {
     "name": "stdout",
     "output_type": "stream",
     "text": [
      "Similarity scores: [np.float64(0.2835472041505702), np.float64(0.28769699382419356), np.float64(0.31855678036821256), np.float64(0.3158629267113816), np.float64(0.3331100340810262), np.float64(0.3596958581090524), np.float64(0.3634299015467861), np.float64(0.3558121061295941), np.float64(0.36527115485174816), np.float64(0.36527115485174816), np.float64(0.36527115485174816), np.float64(0.36527115485174816), np.float64(0.36527115485174816), np.float64(0.36527115485174816), np.float64(0.36527115485174816), np.float64(0.36527115485174816), np.float64(0.36527115485174816)]\n",
      "Final answer:\n",
      "You can pay your rent online using an E-Check without incurring any additional fees. Credit card payments, on the other hand, will incur a 2.95% fee. Other payment types, such as money orders, are also accepted without any additional fees.\n",
      "\n",
      "If your move-in date is between the 25th and 31st, the following month's rent will be due at move-in.\n",
      "None\n"
     ]
    }
   ],
   "source": [
    "query=\"How do I pay online rent and what are the terms for subsequent months?\"\n",
    "ch = cohere.ClientV2(cohere_key)\n",
    "\n",
    "top_chunks = retrieve_top_chunks(query=query, \n",
    "                                 collection_name=\"daves-rag\", \n",
    "                                 chunks=list_chunks,\n",
    "                                 n=5)\n",
    "print(get_llm_output(top_chunks, ch, query))\n"
   ]
  },
  {
   "cell_type": "markdown",
   "metadata": {},
   "source": [
    "https://cloud.qdrant.io/accounts/5afd6788-b042-400e-82cd-baa221f504f0/clusters/b2e7691c-8588-485a-938b-cc899e360d62/overview\n",
    "\n",
    "https://qdrant.tech/documentation/embeddings/cohere/\n",
    "\n",
    "https://qdrant.tech/articles/qa-with-cohere-and-qdrant/\n",
    "\n",
    "https://medium.com/@sanket.ai/building-a-streamlit-application-for-interactive-questioning-with-pdf-using-openai-and-langchain-dc82a0d8d68a\n",
    "\n"
   ]
  },
  {
   "cell_type": "markdown",
   "metadata": {},
   "source": []
  },
  {
   "cell_type": "code",
   "execution_count": null,
   "metadata": {},
   "outputs": [],
   "source": []
  },
  {
   "cell_type": "code",
   "execution_count": 118,
   "metadata": {},
   "outputs": [
    {
     "data": {
      "text/plain": [
       "list"
      ]
     },
     "execution_count": 118,
     "metadata": {},
     "output_type": "execute_result"
    }
   ],
   "source": [
    "type(embeddings)"
   ]
  },
  {
   "cell_type": "code",
   "execution_count": 122,
   "metadata": {},
   "outputs": [],
   "source": [
    "from langchain.schema import Document\n",
    "\n",
    "# Create a list of Document objects\n",
    "documents = [Document(page_content=chunk) for chunk in list_chunks]\n"
   ]
  },
  {
   "cell_type": "code",
   "execution_count": 129,
   "metadata": {},
   "outputs": [
    {
     "name": "stdout",
     "output_type": "stream",
     "text": [
      "\u001b[0;31mSignature:\u001b[0m\n",
      "\u001b[0mQdrantVectorStore\u001b[0m\u001b[0;34m.\u001b[0m\u001b[0mfrom_documents\u001b[0m\u001b[0;34m(\u001b[0m\u001b[0;34m\u001b[0m\n",
      "\u001b[0;34m\u001b[0m    \u001b[0mdocuments\u001b[0m\u001b[0;34m:\u001b[0m \u001b[0;34m'list[Document]'\u001b[0m\u001b[0;34m,\u001b[0m\u001b[0;34m\u001b[0m\n",
      "\u001b[0;34m\u001b[0m    \u001b[0membedding\u001b[0m\u001b[0;34m:\u001b[0m \u001b[0;34m'Embeddings'\u001b[0m\u001b[0;34m,\u001b[0m\u001b[0;34m\u001b[0m\n",
      "\u001b[0;34m\u001b[0m    \u001b[0;34m**\u001b[0m\u001b[0mkwargs\u001b[0m\u001b[0;34m:\u001b[0m \u001b[0;34m'Any'\u001b[0m\u001b[0;34m,\u001b[0m\u001b[0;34m\u001b[0m\n",
      "\u001b[0;34m\u001b[0m\u001b[0;34m)\u001b[0m \u001b[0;34m->\u001b[0m \u001b[0;34m'VST'\u001b[0m\u001b[0;34m\u001b[0m\u001b[0;34m\u001b[0m\u001b[0m\n",
      "\u001b[0;31mDocstring:\u001b[0m\n",
      "Return VectorStore initialized from documents and embeddings.\n",
      "\n",
      "Args:\n",
      "    documents: List of Documents to add to the vectorstore.\n",
      "    embedding: Embedding function to use.\n",
      "    kwargs: Additional keyword arguments.\n",
      "\n",
      "Returns:\n",
      "    VectorStore: VectorStore initialized from documents and embeddings.\n",
      "\u001b[0;31mFile:\u001b[0m      ~/Desktop/DS_ML/ml_course/capstone/ragenv/lib/python3.12/site-packages/langchain_core/vectorstores/base.py\n",
      "\u001b[0;31mType:\u001b[0m      method"
     ]
    }
   ],
   "source": [
    "?QdrantVectorStore.from_documents"
   ]
  },
  {
   "cell_type": "code",
   "execution_count": null,
   "metadata": {},
   "outputs": [],
   "source": []
  }
 ],
 "metadata": {
  "kernelspec": {
   "display_name": "ai_env",
   "language": "python",
   "name": "python3"
  },
  "language_info": {
   "codemirror_mode": {
    "name": "ipython",
    "version": 3
   },
   "file_extension": ".py",
   "mimetype": "text/x-python",
   "name": "python",
   "nbconvert_exporter": "python",
   "pygments_lexer": "ipython3",
   "version": "3.12.8"
  }
 },
 "nbformat": 4,
 "nbformat_minor": 2
}
